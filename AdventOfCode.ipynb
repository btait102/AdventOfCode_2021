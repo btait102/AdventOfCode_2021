{
 "cells": [
  {
   "cell_type": "markdown",
   "metadata": {},
   "source": [
    "# Day1\n",
    "\n",
    "As the submarine drops below the surface of the ocean, it automatically performs a sonar sweep of the nearby sea floor. On a small screen, the sonar sweep report (your puzzle input) appears: each line is a measurement of the sea floor depth as the sweep looks further and further away from the submarine.\n",
    "\n",
    "For example, suppose you had the following report:\n",
    "\n",
    "199\n",
    "200\n",
    "208\n",
    "210\n",
    "200\n",
    "207\n",
    "240\n",
    "269\n",
    "260\n",
    "263\n",
    "\n",
    "This report indicates that, scanning outward from the submarine, the sonar sweep found depths of 199, 200, 208, 210, and so on.\n",
    "\n",
    "The first order of business is to figure out how quickly the depth increases, just so you know what you're dealing with - you never know if the keys will get carried into deeper water by an ocean current or a fish or something.\n",
    "\n",
    "To do this, count the number of times a depth measurement increases from the previous measurement. (There is no measurement before the first measurement.) In the example above, the changes are as follows:\n",
    "\n",
    "199 (N/A - no previous measurement)\n",
    "200 (increased)\n",
    "208 (increased)\n",
    "210 (increased)\n",
    "200 (decreased)\n",
    "207 (increased)\n",
    "240 (increased)\n",
    "269 (increased)\n",
    "260 (decreased)\n",
    "263 (increased)\n",
    "In this example, there are 7 measurements that are larger than the previous measurement.\n",
    "\n",
    "How many measurements are larger than the previous measurement?"
   ]
  },
  {
   "cell_type": "code",
   "execution_count": 16,
   "metadata": {},
   "outputs": [],
   "source": [
    "import numpy as np\n",
    "import itertools\n",
    "\n",
    "path = \"C:/Users/btait/OneDrive/Documents/AdventOfCode/AdventOfCode_2021/PuzzleInputs/\"\n"
   ]
  },
  {
   "cell_type": "code",
   "execution_count": null,
   "metadata": {},
   "outputs": [],
   "source": [
    "path + \"Day1.txt\""
   ]
  },
  {
   "cell_type": "code",
   "execution_count": 22,
   "metadata": {},
   "outputs": [],
   "source": [
    "with open(path + \"Day1.txt\", \"r\") as f:\n",
    "    lst=[int(x) for x in f.read().split()]\n",
    "\n"
   ]
  },
  {
   "cell_type": "code",
   "execution_count": 39,
   "metadata": {},
   "outputs": [
    {
     "name": "stdout",
     "output_type": "stream",
     "text": [
      "7\n",
      "There are 1681 measurements higher than the previous one\n"
     ]
    }
   ],
   "source": [
    "def GreaterThan(lst):\n",
    "    b=0\n",
    "\n",
    "    for a in range(1,len(lst)):\n",
    "        if lst[a] > lst[a-1]:\n",
    "            b=b+1\n",
    "    \n",
    "    return b\n",
    "\n",
    "test = [199,200,208,210,200,207,240,269,260,263]\n",
    "\n",
    "print(GreaterThan(test))\n",
    "\n",
    "print(\"There are \" + str(GreaterThan(day1)) + \" measurements higher than the previous one\")"
   ]
  },
  {
   "cell_type": "markdown",
   "metadata": {},
   "source": [
    "Considering every single measurement isn't as useful as you expected: there's just too much noise in the data.\n",
    "\n",
    "Instead, consider sums of a three-measurement sliding window. Again considering the above example:\n",
    "\n",
    "199  A      \n",
    "200  A B    \n",
    "208  A B C  \n",
    "210    B C D\n",
    "200  E   C D\n",
    "207  E F   D\n",
    "240  E F G  \n",
    "269    F G H\n",
    "260      G H\n",
    "263        H\n",
    "Start by comparing the first and second three-measurement windows. The measurements in the first window are marked A (199, 200, 208); their sum is 199 + 200 + 208 = 607. The second window is marked B (200, 208, 210); its sum is 618. The sum of measurements in the second window is larger than the sum of the first, so this first comparison increased.\n",
    "\n",
    "Your goal now is to count the number of times the sum of measurements in this sliding window increases from the previous sum. So, compare A with B, then compare B with C, then C with D, and so on. Stop when there aren't enough measurements left to create a new three-measurement sum.\n",
    "\n",
    "In the above example, the sum of each three-measurement window is as follows:\n",
    "\n",
    "A: 607 (N/A - no previous sum)\n",
    "B: 618 (increased)\n",
    "C: 618 (no change)\n",
    "D: 617 (decreased)\n",
    "E: 647 (increased)\n",
    "F: 716 (increased)\n",
    "G: 769 (increased)\n",
    "H: 792 (increased)\n",
    "In this example, there are 5 sums that are larger than the previous sum.\n",
    "\n",
    "Consider sums of a three-measurement sliding window. How many sums are larger than the previous sum?"
   ]
  },
  {
   "cell_type": "code",
   "execution_count": 50,
   "metadata": {},
   "outputs": [
    {
     "name": "stdout",
     "output_type": "stream",
     "text": [
      "In a 3 measurement sliding window there are 1704 measurements larger than the one before\n"
     ]
    }
   ],
   "source": [
    "\n",
    "def Product3(lst):\n",
    "    product3=[]\n",
    "\n",
    "    for a in range(0,len(lst)-2):\n",
    "        d = sum(lst[a:a+3])\n",
    "        product3.append(d)\n",
    "\n",
    "    return product3\n",
    "\n",
    "tst = [199,200,208,210,200,207,240,269,260,263]\n",
    "\n",
    "day1b = Product3(day1)\n",
    "\n",
    "print(\"In a 3 measurement sliding window there are \" + str(GreaterThan(day1b)) + \" measurements larger than the one before\")"
   ]
  },
  {
   "cell_type": "markdown",
   "metadata": {},
   "source": []
  }
 ],
 "metadata": {
  "kernelspec": {
   "display_name": "Python 3.9.12 ('base')",
   "language": "python",
   "name": "python3"
  },
  "language_info": {
   "codemirror_mode": {
    "name": "ipython",
    "version": 3
   },
   "file_extension": ".py",
   "mimetype": "text/x-python",
   "name": "python",
   "nbconvert_exporter": "python",
   "pygments_lexer": "ipython3",
   "version": "3.9.13"
  },
  "orig_nbformat": 4,
  "vscode": {
   "interpreter": {
    "hash": "98fcb9b69a3ba993dbc914a336d652188ee0850e322ffaa125b5c56bf96aceff"
   }
  }
 },
 "nbformat": 4,
 "nbformat_minor": 2
}
